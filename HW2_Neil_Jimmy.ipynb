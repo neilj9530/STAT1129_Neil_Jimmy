{
 "cells": [
  {
   "cell_type": "code",
   "execution_count": 1,
   "metadata": {},
   "outputs": [
    {
     "name": "stdout",
     "output_type": "stream",
     "text": [
      "0\n",
      "1\n",
      "2\n",
      "3\n",
      "4\n"
     ]
    }
   ],
   "source": [
    "n = 0\n",
    "while n < 10:\n",
    "    if n == 5:\n",
    "        break\n",
    "    print(n)\n",
    "    n += 1"
   ]
  },
  {
   "cell_type": "code",
   "execution_count": 4,
   "metadata": {},
   "outputs": [
    {
     "name": "stdout",
     "output_type": "stream",
     "text": [
      "0\n",
      "1\n",
      "2\n",
      "3\n",
      "4\n",
      "5 is not less than 5\n"
     ]
    }
   ],
   "source": [
    "n = 0\n",
    "while n < 5:\n",
    "    print(n)\n",
    "    n += 1\n",
    "print(n, \"is not less than 5\")"
   ]
  },
  {
   "cell_type": "code",
   "execution_count": 6,
   "metadata": {},
   "outputs": [
    {
     "name": "stdout",
     "output_type": "stream",
     "text": [
      "I like banana\n",
      "I like pear\n",
      "I like strawberry\n",
      "I like lemon\n",
      "I like orange\n",
      "apple is really a fruit?\n"
     ]
    }
   ],
   "source": [
    "fruitlist = [\"banana\", \"pear\", \"strawberry\", \"lemon\", \"orange\", \"apple\", \"grapes\", \"watermelon\"]\n",
    "for fruit in fruitlist:\n",
    "    if fruit == \"apple\":\n",
    "        print(fruit, \"is really a fruit?\")\n",
    "        break\n",
    "    print(\"I like\", fruit)"
   ]
  },
  {
   "cell_type": "code",
   "execution_count": 10,
   "metadata": {},
   "outputs": [
    {
     "name": "stdout",
     "output_type": "stream",
     "text": [
      "465\n"
     ]
    }
   ],
   "source": [
    "sum = 0\n",
    "number = 1\n",
    "while number < 31:\n",
    "    sum = number + sum\n",
    "    number += 1\n",
    "print(sum)"
   ]
  },
  {
   "cell_type": "code",
   "execution_count": 18,
   "metadata": {},
   "outputs": [
    {
     "name": "stdout",
     "output_type": "stream",
     "text": [
      "When Sunny let us play\n",
      "When Rainy let us watch TV\n",
      "When Cloudy let us walk\n"
     ]
    },
    {
     "data": {
      "text/plain": [
       "dict_items([('Sunny', 'play'), ('Rainy', 'watch TV'), ('Cloudy', 'walk'), ('Snowy', 'ski')])"
      ]
     },
     "execution_count": 18,
     "metadata": {},
     "output_type": "execute_result"
    }
   ],
   "source": [
    "weather = {\"Sunny\": \"play\", \"Rainy\": \"watch TV\", \"Cloudy\": \"walk\"}\n",
    "for w, a in weather.items():\n",
    "    print(\"When\", w, \"let us\", a)\n",
    "weather.update({\"Snowy\": \"ski\"})\n",
    "weather.items()"
   ]
  },
  {
   "cell_type": "code",
   "execution_count": 23,
   "metadata": {},
   "outputs": [
    {
     "name": "stdout",
     "output_type": "stream",
     "text": [
      "When Sunny let us play\n",
      "When Rainy let us watch TV\n",
      "When Cloudy let us walk\n"
     ]
    }
   ],
   "source": [
    "weather = {\"Sunny\": \"play\", \"Rainy\": \"watch TV\", \"Cloudy\": \"walk\"} \n",
    "for w, a in weather.items():\n",
    "    if w == \"Sunny\":\n",
    "        print(\"When\", w, \"let us\", a)\n",
    "    elif w == \"Rainy\":\n",
    "        print(\"When\", w, \"let us\", a)\n",
    "    else:\n",
    "        print(\"When\", w, \"let us\", a)"
   ]
  },
  {
   "cell_type": "code",
   "execution_count": 24,
   "metadata": {},
   "outputs": [
    {
     "name": "stdout",
     "output_type": "stream",
     "text": [
      "Student's grade is C\n"
     ]
    }
   ],
   "source": [
    "grade = 75\n",
    "if grade >= 90:\n",
    "    print(\"Student's grade is A\")\n",
    "elif grade >= 80:\n",
    "    print(\"Student's grade is B\")\n",
    "elif grade >= 70:\n",
    "    print(\"Student's grade is C\")\n",
    "elif grade >= 60:\n",
    "    print(\"Student's grade is D\")\n",
    "else:\n",
    "    print(\"Student's grade is F\")"
   ]
  },
  {
   "cell_type": "code",
   "execution_count": null,
   "metadata": {},
   "outputs": [],
   "source": []
  }
 ],
 "metadata": {
  "kernelspec": {
   "display_name": "Python 3",
   "language": "python",
   "name": "python3"
  },
  "language_info": {
   "codemirror_mode": {
    "name": "ipython",
    "version": 3
   },
   "file_extension": ".py",
   "mimetype": "text/x-python",
   "name": "python",
   "nbconvert_exporter": "python",
   "pygments_lexer": "ipython3",
   "version": "3.7.3"
  }
 },
 "nbformat": 4,
 "nbformat_minor": 2
}
