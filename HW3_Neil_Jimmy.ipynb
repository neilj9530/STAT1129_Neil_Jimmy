{
 "cells": [
  {
   "cell_type": "code",
   "execution_count": 1,
   "metadata": {},
   "outputs": [
    {
     "name": "stdout",
     "output_type": "stream",
     "text": [
      "{'Andy': 88, 'Amy': 66, 'James': 90, 'Jules': 55, 'Arthur': 77}\n"
     ]
    }
   ],
   "source": [
    "marks = {\"Andy\": 88, \"Amy\": 66, \"James\": 90, \"Jules\": 55, \"Arthur\": 77}\n",
    "print(marks)"
   ]
  },
  {
   "cell_type": "code",
   "execution_count": 2,
   "metadata": {},
   "outputs": [
    {
     "name": "stdout",
     "output_type": "stream",
     "text": [
      "Andy has a grade of  88\n",
      "Amy has a grade of  66\n",
      "James has a grade of  90\n",
      "Jules has a grade of  55\n",
      "Arthur has a grade of  77\n"
     ]
    }
   ],
   "source": [
    "for s in marks:\n",
    "    print(s, \"has a grade of \", marks[s])"
   ]
  },
  {
   "cell_type": "code",
   "execution_count": 3,
   "metadata": {},
   "outputs": [
    {
     "name": "stdout",
     "output_type": "stream",
     "text": [
      "75.2\n",
      "55\n",
      "90\n"
     ]
    }
   ],
   "source": [
    "def average(*num):\n",
    "    return sum(num)/len(num)\n",
    "print(average(*marks.values()))\n",
    "print(min(*marks.values()))\n",
    "print(max(*marks.values()))"
   ]
  },
  {
   "cell_type": "code",
   "execution_count": 4,
   "metadata": {},
   "outputs": [
    {
     "name": "stdout",
     "output_type": "stream",
     "text": [
      "Andy\n",
      "Amy\n"
     ]
    }
   ],
   "source": [
    "for s in marks:\n",
    "    if 'J' in s:\n",
    "        break\n",
    "    print(s)"
   ]
  },
  {
   "cell_type": "code",
   "execution_count": 5,
   "metadata": {},
   "outputs": [
    {
     "name": "stdout",
     "output_type": "stream",
     "text": [
      "Andy\n",
      "Amy\n",
      "Arthur\n"
     ]
    }
   ],
   "source": [
    "for s in marks:\n",
    "    if 'J' in s:\n",
    "        continue\n",
    "    print(s)"
   ]
  },
  {
   "cell_type": "code",
   "execution_count": 6,
   "metadata": {},
   "outputs": [
    {
     "data": {
      "text/plain": [
       "55"
      ]
     },
     "execution_count": 6,
     "metadata": {},
     "output_type": "execute_result"
    }
   ],
   "source": [
    "def SGrade(name):\n",
    "    for s in marks:\n",
    "        if s == name:\n",
    "            return marks[s]\n",
    "    print(\"Cannot find student's name\")\n",
    "SGrade(\"Jules\")"
   ]
  },
  {
   "cell_type": "code",
   "execution_count": 7,
   "metadata": {},
   "outputs": [
    {
     "name": "stdout",
     "output_type": "stream",
     "text": [
      "0 1\n",
      "1 1\n",
      "2 4\n",
      "3 27\n",
      "4 256\n",
      "5 3125\n",
      "6 46656\n",
      "7 823543\n",
      "Greater than  8\n"
     ]
    }
   ],
   "source": [
    "def numpower(num):\n",
    "    n = 0\n",
    "    while n < num:\n",
    "        print(n, n**n)\n",
    "        n += 1\n",
    "    print(\"Greater than \", num)\n",
    "numpower(8)"
   ]
  },
  {
   "cell_type": "code",
   "execution_count": 8,
   "metadata": {},
   "outputs": [
    {
     "name": "stdout",
     "output_type": "stream",
     "text": [
      "10\n"
     ]
    }
   ],
   "source": [
    "def rangesum(num):\n",
    "    total = 0\n",
    "    n = 1\n",
    "    while n <= num:\n",
    "        total = total + n\n",
    "        n += 1\n",
    "    print(total)\n",
    "rangesum(4)"
   ]
  },
  {
   "cell_type": "code",
   "execution_count": 9,
   "metadata": {},
   "outputs": [
    {
     "name": "stdout",
     "output_type": "stream",
     "text": [
      "1\n",
      "3\n",
      "6\n",
      "10\n"
     ]
    }
   ],
   "source": [
    "def rangesum2(num):\n",
    "    total = 0\n",
    "    for n in range(num):\n",
    "        n += 1\n",
    "        total = total + n\n",
    "        print(total)\n",
    "rangesum2(4)"
   ]
  },
  {
   "cell_type": "code",
   "execution_count": 10,
   "metadata": {},
   "outputs": [
    {
     "data": {
      "text/plain": [
       "4"
      ]
     },
     "execution_count": 10,
     "metadata": {},
     "output_type": "execute_result"
    }
   ],
   "source": [
    "def minimum(v1, v2, v3, v4):\n",
    "    if v1 <= v2 and v1 <= v3 and v1 <= v4:\n",
    "        return v1\n",
    "    elif v2 <= v1 and v2 <= v3 and v2 <= v4:\n",
    "        return v2\n",
    "    elif v3 <= v1 and v3 <= v2 and v3 <= v4:\n",
    "        return v3\n",
    "    else:\n",
    "        return v4\n",
    "minimum(7, 5, 8, 4)"
   ]
  },
  {
   "cell_type": "code",
   "execution_count": null,
   "metadata": {},
   "outputs": [],
   "source": []
  }
 ],
 "metadata": {
  "kernelspec": {
   "display_name": "Python 3",
   "language": "python",
   "name": "python3"
  },
  "language_info": {
   "codemirror_mode": {
    "name": "ipython",
    "version": 3
   },
   "file_extension": ".py",
   "mimetype": "text/x-python",
   "name": "python",
   "nbconvert_exporter": "python",
   "pygments_lexer": "ipython3",
   "version": "3.7.3"
  }
 },
 "nbformat": 4,
 "nbformat_minor": 2
}
